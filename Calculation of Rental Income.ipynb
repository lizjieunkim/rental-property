{
 "cells": [
  {
   "cell_type": "code",
   "execution_count": null,
   "id": "9930338e",
   "metadata": {},
   "outputs": [
    {
     "name": "stdout",
     "output_type": "stream",
     "text": [
      "Welcome to the Rental Income Calculator Buddy \n",
      "Please enter amounts per month\n",
      "\n",
      "Enter Rental Amount: 2000\n",
      "Enter Laundry Amount: 100\n",
      "Enter Storage Amount: 0\n",
      "Enter MISC Amount: 0\n",
      "your total income is: 2100\n",
      "\n",
      "\n",
      "Enter your Expenses: \n",
      "\n",
      " Enter Tax Amount: 250\n",
      "Enter Insurance: 15\n",
      "Enter Utilities: 200\n",
      "Enter Electricity: 50\n",
      "Enter Water: 0\n",
      "Enter Sewer: 0\n",
      "Enter Garbage: 0\n",
      "Enter Gas: 0\n",
      "Enter Mortgage: 200000\n",
      "your total income is: 200515\n",
      "\n",
      "\n",
      "Your net income is: -198415\n"
     ]
    }
   ],
   "source": [
    "\n",
    "class income:\n",
    "    def __init__(self):\n",
    "        self.totalIncome = 0\n",
    "        self.expensesTotal = 0\n",
    "        self.cashFlow = 0\n",
    "\n",
    "    def incomeanswer(self):\n",
    "        rent = int(input(\"Welcome to the Rental Income Calculator Buddy \\nPlease enter amounts per month\\n\\nEnter Rental Amount: \"))\n",
    "        laundry = int(input(\"Enter Laundry Amount: \"))\n",
    "        storage = int(input(\"Enter Storage Amount: \"))\n",
    "        misc = int(input(\"Enter MISC Amount: \"))\n",
    "        self.totalIncome = rent + laundry + storage + misc\n",
    "        print(f\"your total income is: {self.totalIncome}\")\n",
    "        \n",
    "        \n",
    "    def expensesAnswer(self):\n",
    "        tax = int(input(\"\\n\\nEnter your Expenses: \\n\\n Enter Tax Amount: \"))\n",
    "        insurance = int(input(\"Enter Insurance: \"))\n",
    "        utilities = int(input(\"Enter Utilities: \"))\n",
    "        electricity = int(input(\"Enter Electricity: \"))\n",
    "        water = int(input(\"Enter Water: \"))\n",
    "        sewer = int(input(\"Enter Sewer: \"))\n",
    "        garbage = int(input(\"Enter Garbage: \"))\n",
    "        gas = int(input(\"Enter Gas: \"))\n",
    "        mortgage = int(input(\"Enter Mortgage: \"))\n",
    "        self.expensesTotal = tax + insurance + utilities + electricity + water + sewer + garbage + gas + mortgage\n",
    "        print(f\"your total income is: {self.expensesTotal}\")\n",
    "        \n",
    "\n",
    "    def netIncome(self):\n",
    "        self.cashFlow = self.totalIncome - self.expensesTotal\n",
    "        print(f\"\\n\\nYour net income is: {self.cashFlow}\")\n",
    "\n",
    "    \n",
    "\n",
    "    def ROI(self):\n",
    "        downPayment = int(input(\"Please Enter Down Payment: \"))\n",
    "        closingCost = int(input(\"Please enter Closing Cost: \"))\n",
    "        investment = downPayment + closingCost\n",
    "\n",
    "        annualCash = self.cashFlow * 12\n",
    "        cashROI = (annualCash / investment)*100\n",
    "        print(f\"Your Cash ROI is {cashROI}%\")\n",
    "        \n",
    "\n",
    "\n",
    "\n",
    "my_rental = income()\n",
    "my_rental.incomeanswer()\n",
    "my_rental.expensesAnswer()\n",
    "my_rental.netIncome()\n",
    "my_rental.ROI()\n"
   ]
  },
  {
   "cell_type": "code",
   "execution_count": null,
   "id": "5e118a84",
   "metadata": {},
   "outputs": [],
   "source": []
  }
 ],
 "metadata": {
  "kernelspec": {
   "display_name": "Python 3 (ipykernel)",
   "language": "python",
   "name": "python3"
  },
  "language_info": {
   "codemirror_mode": {
    "name": "ipython",
    "version": 3
   },
   "file_extension": ".py",
   "mimetype": "text/x-python",
   "name": "python",
   "nbconvert_exporter": "python",
   "pygments_lexer": "ipython3",
   "version": "3.9.13"
  }
 },
 "nbformat": 4,
 "nbformat_minor": 5
}
